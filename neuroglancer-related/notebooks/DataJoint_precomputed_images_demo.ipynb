{
 "cells": [
  {
   "cell_type": "code",
   "execution_count": 13,
   "metadata": {},
   "outputs": [],
   "source": [
    "import os\n",
    "\n",
    "import numpy as np\n",
    "import json\n",
    "import pandas as pd\n",
    "import re\n",
    "\n",
    "from neuroglancer_utilities import neuroglancer_utilities"
   ]
  },
  {
   "cell_type": "code",
   "execution_count": 2,
   "metadata": {},
   "outputs": [
    {
     "name": "stdout",
     "output_type": "stream",
     "text": [
      "Connecting thinh@ucsd-demo-db.datajoint.io:3306\n"
     ]
    },
    {
     "data": {
      "text/plain": [
       "DataJoint connection (connected) thinh@ucsd-demo-db.datajoint.io:3306"
      ]
     },
     "execution_count": 2,
     "metadata": {},
     "output_type": "execute_result"
    }
   ],
   "source": [
    "os.chdir('..')\n",
    "import datajoint as dj\n",
    "dj.conn()"
   ]
  },
  {
   "cell_type": "code",
   "execution_count": 4,
   "metadata": {},
   "outputs": [],
   "source": [
    "# Define common_atlas schema \n",
    "common_atlas_schema = dj.schema('common_atlas_v2')\n",
    "common_atlas_schema.spawn_missing_classes()"
   ]
  },
  {
   "cell_type": "code",
   "execution_count": 25,
   "metadata": {
    "scrolled": true
   },
   "outputs": [
    {
     "name": "stdout",
     "output_type": "stream",
     "text": [
      "Connecting root@127.0.0.1:3306\n"
     ]
    }
   ],
   "source": [
    "with open('dj_local_conf_TNlocal.json') as f:\n",
    "    dj_config_TNlocal = json.load(f)\n",
    "TNlocal_conn = dj.Connection(host=dj_config_TNlocal['database.host'],\n",
    "                            user=dj_config_TNlocal['database.user'],\n",
    "                            password=dj_config_TNlocal['database.password'])"
   ]
  },
  {
   "cell_type": "code",
   "execution_count": 27,
   "metadata": {},
   "outputs": [],
   "source": [
    "# Define new schema for brain images\n",
    "brain_images_schema = dj.schema(dj.config.get('database.prefix', '') + 'precomputed_brainstack',\n",
    "                               connection=TNlocal_conn)"
   ]
  },
  {
   "cell_type": "code",
   "execution_count": 5,
   "metadata": {},
   "outputs": [
    {
     "data": {
      "image/svg+xml": [
       "<svg height=\"247pt\" viewBox=\"0.00 0.00 309.00 247.00\" width=\"309pt\" xmlns=\"http://www.w3.org/2000/svg\" xmlns:xlink=\"http://www.w3.org/1999/xlink\">\n",
       "<g class=\"graph\" id=\"graph0\" transform=\"scale(1 1) rotate(0) translate(4 243)\">\n",
       "<title>%3</title>\n",
       "<polygon fill=\"white\" points=\"-4,4 -4,-243 305,-243 305,4 -4,4\" stroke=\"none\"/>\n",
       "<!-- RawSlices -->\n",
       "<g class=\"node\" id=\"node1\"><title>RawSlices</title>\n",
       "<g id=\"a_node1\"><a xlink:title=\"→ BrainStack\r",
       "------------------------------\r",
       "aws_bucket           \r",
       "raw_stack            \r",
       "\">\n",
       "<ellipse cx=\"141\" cy=\"-13\" fill=\"#ff0000\" fill-opacity=\"0.125490\" rx=\"13\" ry=\"13\" stroke=\"#ff0000\" stroke-opacity=\"0.125490\"/>\n",
       "<text fill=\"#7f0000\" font-family=\"arial\" font-size=\"12.00\" text-anchor=\"middle\" x=\"141\" y=\"-9.9\">RawSlices</text>\n",
       "</a>\n",
       "</g>\n",
       "</g>\n",
       "<!-- Perfusion -->\n",
       "<g class=\"node\" id=\"node2\"><title>Perfusion</title>\n",
       "<g id=\"a_node2\"><a xlink:title=\"→ Mouse\r",
       "------------------------------\r",
       "injection_date       \r",
       "post_fixation_condition_hours \r",
       "date_frozen          \r",
       "date_sectioned       \r",
       "injection_type       \r",
       "perfusion_lab        \r",
       "assessment=&quot;&quot;        \r",
       "\">\n",
       "<polygon fill=\"#00ff00\" fill-opacity=\"0.188235\" points=\"66,-168 0,-168 0,-133 66,-133 66,-168\" stroke=\"#00ff00\" stroke-opacity=\"0.188235\"/>\n",
       "<text fill=\"darkgreen\" font-family=\"arial\" font-size=\"12.00\" text-anchor=\"middle\" x=\"33\" y=\"-147.4\">Perfusion</text>\n",
       "</a>\n",
       "</g>\n",
       "</g>\n",
       "<!-- Injection -->\n",
       "<g class=\"node\" id=\"node3\"><title>Injection</title>\n",
       "<g id=\"a_node3\"><a xlink:title=\"→ Mouse\r",
       "injection_number     \r",
       "------------------------------\r",
       "injection_date       \r",
       "injection_type       \r",
       "injection_length     \r",
       "assessment=&quot;&quot;        \r",
       "\">\n",
       "<polygon fill=\"#00ff00\" fill-opacity=\"0.188235\" points=\"143.5,-168 84.5,-168 84.5,-133 143.5,-133 143.5,-168\" stroke=\"#00ff00\" stroke-opacity=\"0.188235\"/>\n",
       "<text fill=\"darkgreen\" font-family=\"arial\" font-size=\"12.00\" text-anchor=\"start\" text-decoration=\"underline\" x=\"92.5\" y=\"-148.4\">Injection</text>\n",
       "</a>\n",
       "</g>\n",
       "</g>\n",
       "<!-- BrainStack -->\n",
       "<g class=\"node\" id=\"node4\"><title>BrainStack</title>\n",
       "<g id=\"a_node4\"><a xlink:title=\"→ Histology\r",
       "------------------------------\r",
       "stack_name           \r",
       "num_slices           \r",
       "num_valid_slices     \r",
       "channels             \r",
       "sorted_filenames     \r",
       "human_annotated      \r",
       "planar_resolution_um \r",
       "section_thickness_um \r",
       "UNIQUE INDEX (stack_name)\r",
       "\">\n",
       "<polygon fill=\"#00ff00\" fill-opacity=\"0.188235\" points=\"231,-97 157,-97 157,-62 231,-62 231,-97\" stroke=\"#00ff00\" stroke-opacity=\"0.188235\"/>\n",
       "<text fill=\"darkgreen\" font-family=\"arial\" font-size=\"12.00\" text-anchor=\"middle\" x=\"194\" y=\"-76.4\">BrainStack</text>\n",
       "</a>\n",
       "</g>\n",
       "</g>\n",
       "<!-- BrainStack&#45;&gt;RawSlices -->\n",
       "<g class=\"edge\" id=\"edge1\"><title>BrainStack-&gt;RawSlices</title>\n",
       "<path d=\"M180.351,-61.8896C170.414,-49.796 157.295,-33.8309 149.001,-23.7371\" fill=\"none\" stroke=\"#000000\" stroke-opacity=\"0.250980\" stroke-width=\"2\"/>\n",
       "</g>\n",
       "<!-- ProcessedSlices -->\n",
       "<g class=\"node\" id=\"node6\"><title>ProcessedSlices</title>\n",
       "<g id=\"a_node6\"><a xlink:title=\"→ BrainStack\r",
       "------------------------------\r",
       "aws_bucket           \r",
       "processed_stack      \r",
       "\">\n",
       "<ellipse cx=\"248\" cy=\"-13\" fill=\"#ff0000\" fill-opacity=\"0.125490\" rx=\"13\" ry=\"13\" stroke=\"#ff0000\" stroke-opacity=\"0.125490\"/>\n",
       "<text fill=\"#7f0000\" font-family=\"arial\" font-size=\"12.00\" text-anchor=\"middle\" x=\"248\" y=\"-9.9\">ProcessedSlices</text>\n",
       "</a>\n",
       "</g>\n",
       "</g>\n",
       "<!-- BrainStack&#45;&gt;ProcessedSlices -->\n",
       "<g class=\"edge\" id=\"edge2\"><title>BrainStack-&gt;ProcessedSlices</title>\n",
       "<path d=\"M207.906,-61.8896C218.031,-49.796 231.397,-33.8309 239.848,-23.7371\" fill=\"none\" stroke=\"#000000\" stroke-opacity=\"0.250980\" stroke-width=\"2\"/>\n",
       "</g>\n",
       "<!-- Mouse -->\n",
       "<g class=\"node\" id=\"node5\"><title>Mouse</title>\n",
       "<g id=\"a_node5\"><a xlink:title=\"mouse                \r",
       "------------------------------\r",
       "date_of_birth        \r",
       "sex                  \r",
       "genotype             \r",
       "weight               \r",
       "bred                 \r",
       "\">\n",
       "<polygon fill=\"#00ff00\" fill-opacity=\"0.188235\" points=\"140,-239 88,-239 88,-204 140,-204 140,-239\" stroke=\"#00ff00\" stroke-opacity=\"0.188235\"/>\n",
       "<text fill=\"darkgreen\" font-family=\"arial\" font-size=\"12.00\" text-anchor=\"start\" text-decoration=\"underline\" x=\"96\" y=\"-219.4\">Mouse</text>\n",
       "</a>\n",
       "</g>\n",
       "</g>\n",
       "<!-- Mouse&#45;&gt;Perfusion -->\n",
       "<g class=\"edge\" id=\"edge3\"><title>Mouse-&gt;Perfusion</title>\n",
       "<path d=\"M94.3922,-203.797C81.6569,-192.949 65.1264,-178.867 52.4273,-168.049\" fill=\"none\" stroke=\"#000000\" stroke-opacity=\"0.250980\" stroke-width=\"2\"/>\n",
       "</g>\n",
       "<!-- Mouse&#45;&gt;Injection -->\n",
       "<g class=\"edge\" id=\"edge4\"><title>Mouse-&gt;Injection</title>\n",
       "<path d=\"M114,-203.797C114,-192.949 114,-178.867 114,-168.049\" fill=\"none\" stroke=\"#000000\" stroke-opacity=\"0.250980\" stroke-width=\"0.75\"/>\n",
       "</g>\n",
       "<!-- Histology -->\n",
       "<g class=\"node\" id=\"node7\"><title>Histology</title>\n",
       "<g id=\"a_node7\"><a xlink:title=\"→ Mouse\r",
       "------------------------------\r",
       "region               \r",
       "thickness            \r",
       "orientation          \r",
       "counter_stain        \r",
       "lab                  \r",
       "series               \r",
       "\">\n",
       "<polygon fill=\"#00ff00\" fill-opacity=\"0.188235\" points=\"226.5,-168 161.5,-168 161.5,-133 226.5,-133 226.5,-168\" stroke=\"#00ff00\" stroke-opacity=\"0.188235\"/>\n",
       "<text fill=\"darkgreen\" font-family=\"arial\" font-size=\"12.00\" text-anchor=\"middle\" x=\"194\" y=\"-147.4\">Histology</text>\n",
       "</a>\n",
       "</g>\n",
       "</g>\n",
       "<!-- Mouse&#45;&gt;Histology -->\n",
       "<g class=\"edge\" id=\"edge5\"><title>Mouse-&gt;Histology</title>\n",
       "<path d=\"M133.366,-203.797C145.944,-192.949 162.27,-178.867 174.813,-168.049\" fill=\"none\" stroke=\"#000000\" stroke-opacity=\"0.250980\" stroke-width=\"2\"/>\n",
       "</g>\n",
       "<!-- Histology&#45;&gt;BrainStack -->\n",
       "<g class=\"edge\" id=\"edge6\"><title>Histology-&gt;BrainStack</title>\n",
       "<path d=\"M194,-132.797C194,-121.949 194,-107.867 194,-97.0492\" fill=\"none\" stroke=\"#000000\" stroke-opacity=\"0.250980\" stroke-width=\"2\"/>\n",
       "</g>\n",
       "</g>\n",
       "</svg>"
      ],
      "text/plain": [
       "<datajoint.erd.ERD at 0x270bbcb6748>"
      ]
     },
     "execution_count": 5,
     "metadata": {},
     "output_type": "execute_result"
    }
   ],
   "source": [
    "dj.ERD(common_atlas_schema)"
   ]
  },
  {
   "cell_type": "code",
   "execution_count": 33,
   "metadata": {},
   "outputs": [
    {
     "data": {
      "text/plain": [
       "# \n",
       "mouse                : char(18)                     # Name for lab mouse, max 8 chars\n",
       "---\n",
       "stack_name           : varchar(10)                  # (Str) unique designation for each mouse\n",
       "num_slices           : int                          # (int) total number of histology slices\n",
       "num_valid_slices     : int                          # \n",
       "channels             : int                          # (int) number of channels for each slice\n",
       "sorted_filenames     : varchar(50000)               # (Str) the sorted_filenames.txt file for each brain\n",
       "human_annotated      : tinyint                      # (bool) does this stack have human annotations\n",
       "planar_resolution_um : double                       # (double) 0.325 for AxioScanner, 0.46 from CSHL\n",
       "section_thickness_um : double                       # (double) typically 20um"
      ]
     },
     "execution_count": 33,
     "metadata": {},
     "output_type": "execute_result"
    }
   ],
   "source": [
    "BrainStack.heading"
   ]
  },
  {
   "cell_type": "code",
   "execution_count": 61,
   "metadata": {},
   "outputs": [
    {
     "data": {
      "text/plain": [
       "# \n",
       "mouse                : char(18)                     # Name for lab mouse, max 8 chars\n",
       "---\n",
       "aws_bucket           : varchar(40)                  # (Str) the name of the bucket the files are stored on\n",
       "processed_stack      : varchar(50000)               # (Str) a sequence of each filepath of files stored on S3 seperated by '|'"
      ]
     },
     "execution_count": 61,
     "metadata": {},
     "output_type": "execute_result"
    }
   ],
   "source": [
    "ProcessedSlices.heading"
   ]
  },
  {
   "cell_type": "code",
   "execution_count": 38,
   "metadata": {},
   "outputs": [
    {
     "data": {
      "text/plain": [
       "[array(['CHATM2', 'CHATM3', 'CSHL2', 'MD175', 'MD585', 'MD589', 'MD590',\n",
       "        'MD591', 'MD592', 'MD593', 'MD594', 'MD595', 'MD598', 'MD599',\n",
       "        'MD602', 'MD603', 'MD635', 'MD636', 'MD639', 'MD642', 'MD652',\n",
       "        'MD653', 'MD657', 'MD658', 'MD661', 'MD662', 'UCSD001'],\n",
       "       dtype=object),\n",
       " array([235, 293,  -1,  -1, 439, 443, 428, 455, 449, 444, 423, 437, 433,\n",
       "        443, 438, 433, 437,  -1,  -1, 431, 479, 472, 441, 443, 438, 438,\n",
       "        458], dtype=int64)]"
      ]
     },
     "execution_count": 38,
     "metadata": {},
     "output_type": "execute_result"
    }
   ],
   "source": [
    "brains = (BrainStack).fetch('stack_name', 'num_valid_slices')\n",
    "brains"
   ]
  },
  {
   "cell_type": "code",
   "execution_count": 60,
   "metadata": {},
   "outputs": [
    {
     "data": {
      "text/plain": [
       "['Placeholder 1',\n",
       " 'Placeholder 2',\n",
       " 'MD585-N3-2015.07.16-19.48.34_MD585_1_0007 3',\n",
       " 'MD585-IHC3-2015.07.16-15.26.44_MD585_1_0007 4',\n",
       " 'MD585-N3-2015.07.16-19.48.34_MD585_2_0008 5',\n",
       " 'MD585-IHC3-2015.07.16-15.26.44_MD585_2_0008 6',\n",
       " 'MD585-N4-2015.07.16-19.50.10_MD585_1_0010 7',\n",
       " 'Placeholder 8',\n",
       " 'MD585-N4-2015.07.16-19.50.10_MD585_2_0011 9',\n",
       " 'MD585-IHC4-2015.07.18-07.01.12_MD585_1_0010 10']"
      ]
     },
     "execution_count": 60,
     "metadata": {},
     "output_type": "execute_result"
    }
   ],
   "source": [
    "brain_stack = (BrainStack & 'mouse = \"MD585\"').fetch1()\n",
    "sorted_slices = brain_stack['sorted_filenames'].split('|')\n",
    "sorted_slices[:10]"
   ]
  },
  {
   "cell_type": "code",
   "execution_count": 59,
   "metadata": {},
   "outputs": [
    {
     "data": {
      "text/plain": [
       "['CSHL_data_processed/MD585/MD585_prep2_lossless/MD585-IHC16-2015.08.19-13.14.51_MD585_3_0048_prep2_lossless.tif',\n",
       " 'CSHL_data_processed/MD585/MD585_prep2_lossless/MD585-IHC17-2015.07.16-15.32.03_MD585_1_0049_prep2_lossless.tif',\n",
       " 'CSHL_data_processed/MD585/MD585_prep2_lossless/MD585-IHC17-2015.07.16-15.32.03_MD585_2_0050_prep2_lossless.tif',\n",
       " 'CSHL_data_processed/MD585/MD585_prep2_lossless/MD585-IHC17-2015.07.16-15.32.03_MD585_3_0051_prep2_lossless.tif',\n",
       " 'CSHL_data_processed/MD585/MD585_prep2_lossless/MD585-IHC18-2015.07.16-15.35.58_MD585_1_0052_prep2_lossless.tif',\n",
       " 'CSHL_data_processed/MD585/MD585_prep2_lossless/MD585-IHC18-2015.07.16-15.35.58_MD585_2_0053_prep2_lossless.tif',\n",
       " 'CSHL_data_processed/MD585/MD585_prep2_lossless/MD585-IHC18-2015.07.16-15.35.58_MD585_3_0054_prep2_lossless.tif',\n",
       " 'CSHL_data_processed/MD585/MD585_prep2_lossless/MD585-IHC19-2015.07.16-15.39.52_MD585_1_0055_prep2_lossless.tif',\n",
       " 'CSHL_data_processed/MD585/MD585_prep2_lossless/MD585-IHC19-2015.07.16-15.39.52_MD585_2_0056_prep2_lossless.tif',\n",
       " 'CSHL_data_processed/MD585/MD585_prep2_lossless/MD585-IHC19-2015.07.16-15.39.52_MD585_3_0057_prep2_lossless.tif']"
      ]
     },
     "execution_count": 59,
     "metadata": {},
     "output_type": "execute_result"
    }
   ],
   "source": [
    "processed_stack = (ProcessedSlices & 'mouse = \"MD585\"').fetch1()\n",
    "sorted_processedslices = processed_stack['processed_stack'].split('|')\n",
    "sorted_processedslices[:10]"
   ]
  },
  {
   "cell_type": "code",
   "execution_count": null,
   "metadata": {},
   "outputs": [],
   "source": [
    "@brain_images_schema\n",
    "class PrecomputedBrain(dj.Computed):\n",
    "    definition = \"\"\"\n",
    "    -> ProcessedSlices\n",
    "    ---\n",
    "    aws_bucket: varchar(40)         \n",
    "    precomputed_url: varchar(255)   \n",
    "    \"\"\"\n",
    "    \n",
    "    # hard-code keysource here, instead of all, only do one for MD585 for demonstration purpose\n",
    "    key_source = (ProcessedSlices & 'mouse = \"MD585\"').fetch('KEY')\n",
    "    \n",
    "    make(self, key):\n",
    "        s3_bucket_name_for_upload = 'mousebrainatlas-datajoint-jp2k'\n",
    "        s3_creds_file = 's3-creds.json'\n",
    "        \n",
    "        mouse_info = (BrainStack & key).fetch1('stack_name', 'planar_resolution_um', 'section_thickness_um')\n",
    "        mouse_info['sorted_filenames'] = mouse_info['sorted_filenames'].split('|')\n",
    "        sorted_processedslices = (ProcessedSlices & key).fetch1('processed_stack')\n",
    "        \n",
    "        # -- download_ordered_files_from_s3\n",
    "        f_infos = [(l.split(' ')[-1], re.search('[^\\|]+' + re.escape(l.split(' ')[0]) + '[^\\|]+', sorted_processedslices).group()) \n",
    "           if re.search('[^\\|]+' + re.escape(l.split(' ')[0]) + '[^\\|]+', sorted_processedslices) else (l.split(' ')[-1], 'Placeholder')\n",
    "           for l in mouse_info['sorted_filenames']]\n",
    "        \n",
    "        folder_to_download_to = os.path.join('.', 's3_precomputed_temp', mouse_info['stack_name'])\n",
    "        if not os.path.exists(folder_to_write_to):\n",
    "            os.makedirs(folder_to_write_to)\n",
    "            \n",
    "        bucket = neuroglancer_utilities.get_bucket(s3_creds_file, (ProcessedSlices & key).fetch1('aws_bucket'))\n",
    "        for idx, key in f_infos:\n",
    "            if key != 'Placeholder': \n",
    "                fname_to_write, ext = os.path.splitext(os.path.split(key)[-1])\n",
    "                fname_to_write = '_'.join([f'{int(idx):04d}', fname_to_write, ext])\n",
    "                dest = os.path.join(folder_to_download_to, fname_to_write)\n",
    "                bucket.download_file(key, dest)\n",
    "                \n",
    "        # -- convert to precomputed\n",
    "        folder_to_convert_to = os.path.join('.', 's3_precomputed_temp', mouse_info['stack_name'] + '_precomputed')\n",
    "        neuroglancer_utilities.convert_to_precomputed(folder_to_write_to, folder_to_convert_to, \n",
    "                                                     voxel_resolution=(mouse_info['planar_resolution_um'],\n",
    "                                                                      mouse_info['planar_resolution_um'],\n",
    "                                                                      mouse_info['section_thickness_um']) * 1000,\n",
    "                                                     voxel_offset=(0, 0, 0))\n",
    "        # -- upload to S3\n",
    "        s3_dir_to_write_to = f'precomputed/{mouse_info[\"stack_name\"]}'\n",
    "        upload_directory_to_s3(s3_creds_file, s3_bucket_name_for_upload, folder_to_convert_to, s3_dir_to_write_to, overwrite=False)\n",
    "        \n",
    "        # insert\n",
    "        precomputed_url = f'https://{s3_bucket_name_for_upload}.s3.amazonaws.com/{s3_dir_to_write_to}'\n",
    "        self.insert1(dict(key, precomputed_url=precomputed_url))\n",
    "    \n",
    "        "
   ]
  },
  {
   "cell_type": "code",
   "execution_count": null,
   "metadata": {},
   "outputs": [],
   "source": [
    "PrecomputedBrain.insert1(('MD585', 'https://mousebrainatlas-datajoint-jp2k.s3.amazonaws.com/precomputed/MD585_fullres'))"
   ]
  },
  {
   "cell_type": "code",
   "execution_count": null,
   "metadata": {},
   "outputs": [],
   "source": []
  },
  {
   "cell_type": "code",
   "execution_count": null,
   "metadata": {},
   "outputs": [],
   "source": []
  },
  {
   "cell_type": "code",
   "execution_count": null,
   "metadata": {},
   "outputs": [],
   "source": []
  }
 ],
 "metadata": {
  "kernelspec": {
   "display_name": "Python 3",
   "language": "python",
   "name": "python3"
  },
  "language_info": {
   "codemirror_mode": {
    "name": "ipython",
    "version": 3
   },
   "file_extension": ".py",
   "mimetype": "text/x-python",
   "name": "python",
   "nbconvert_exporter": "python",
   "pygments_lexer": "ipython3",
   "version": "3.7.0"
  }
 },
 "nbformat": 4,
 "nbformat_minor": 2
}
